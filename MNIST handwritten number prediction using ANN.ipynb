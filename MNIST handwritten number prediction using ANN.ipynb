{
 "cells": [
  {
   "cell_type": "code",
   "execution_count": 34,
   "id": "bef70ada",
   "metadata": {},
   "outputs": [],
   "source": [
    "import tensorflow as tf\n",
    "from tensorflow import keras\n",
    "from tensorflow.keras import Sequential\n",
    "from tensorflow.keras.layers import Dense, Flatten"
   ]
  },
  {
   "cell_type": "code",
   "execution_count": 36,
   "id": "9ebe6384",
   "metadata": {},
   "outputs": [],
   "source": [
    " (X_train, y_train), (X_test, y_test) = keras.datasets.mnist.load_data()"
   ]
  },
  {
   "cell_type": "code",
   "execution_count": 3,
   "id": "0f82da53",
   "metadata": {},
   "outputs": [
    {
     "data": {
      "text/plain": [
       "array([[[0, 0, 0, ..., 0, 0, 0],\n",
       "        [0, 0, 0, ..., 0, 0, 0],\n",
       "        [0, 0, 0, ..., 0, 0, 0],\n",
       "        ...,\n",
       "        [0, 0, 0, ..., 0, 0, 0],\n",
       "        [0, 0, 0, ..., 0, 0, 0],\n",
       "        [0, 0, 0, ..., 0, 0, 0]],\n",
       "\n",
       "       [[0, 0, 0, ..., 0, 0, 0],\n",
       "        [0, 0, 0, ..., 0, 0, 0],\n",
       "        [0, 0, 0, ..., 0, 0, 0],\n",
       "        ...,\n",
       "        [0, 0, 0, ..., 0, 0, 0],\n",
       "        [0, 0, 0, ..., 0, 0, 0],\n",
       "        [0, 0, 0, ..., 0, 0, 0]],\n",
       "\n",
       "       [[0, 0, 0, ..., 0, 0, 0],\n",
       "        [0, 0, 0, ..., 0, 0, 0],\n",
       "        [0, 0, 0, ..., 0, 0, 0],\n",
       "        ...,\n",
       "        [0, 0, 0, ..., 0, 0, 0],\n",
       "        [0, 0, 0, ..., 0, 0, 0],\n",
       "        [0, 0, 0, ..., 0, 0, 0]],\n",
       "\n",
       "       ...,\n",
       "\n",
       "       [[0, 0, 0, ..., 0, 0, 0],\n",
       "        [0, 0, 0, ..., 0, 0, 0],\n",
       "        [0, 0, 0, ..., 0, 0, 0],\n",
       "        ...,\n",
       "        [0, 0, 0, ..., 0, 0, 0],\n",
       "        [0, 0, 0, ..., 0, 0, 0],\n",
       "        [0, 0, 0, ..., 0, 0, 0]],\n",
       "\n",
       "       [[0, 0, 0, ..., 0, 0, 0],\n",
       "        [0, 0, 0, ..., 0, 0, 0],\n",
       "        [0, 0, 0, ..., 0, 0, 0],\n",
       "        ...,\n",
       "        [0, 0, 0, ..., 0, 0, 0],\n",
       "        [0, 0, 0, ..., 0, 0, 0],\n",
       "        [0, 0, 0, ..., 0, 0, 0]],\n",
       "\n",
       "       [[0, 0, 0, ..., 0, 0, 0],\n",
       "        [0, 0, 0, ..., 0, 0, 0],\n",
       "        [0, 0, 0, ..., 0, 0, 0],\n",
       "        ...,\n",
       "        [0, 0, 0, ..., 0, 0, 0],\n",
       "        [0, 0, 0, ..., 0, 0, 0],\n",
       "        [0, 0, 0, ..., 0, 0, 0]]], dtype=uint8)"
      ]
     },
     "execution_count": 3,
     "metadata": {},
     "output_type": "execute_result"
    }
   ],
   "source": [
    "X_train"
   ]
  },
  {
   "cell_type": "code",
   "execution_count": 5,
   "id": "3f5ca900",
   "metadata": {},
   "outputs": [
    {
     "data": {
      "text/plain": [
       "(60000, 28, 28)"
      ]
     },
     "execution_count": 5,
     "metadata": {},
     "output_type": "execute_result"
    }
   ],
   "source": [
    "X_train.shape"
   ]
  },
  {
   "cell_type": "code",
   "execution_count": 7,
   "id": "88e440a4",
   "metadata": {},
   "outputs": [
    {
     "data": {
      "text/plain": [
       "array([[  0,   0,   0,   0,   0,   0,   0,   0,   0,   0,   0,   0,   0,\n",
       "          0,   0,   0,   0,   0,   0,   0,   0,   0,   0,   0,   0,   0,\n",
       "          0,   0],\n",
       "       [  0,   0,   0,   0,   0,   0,   0,   0,   0,   0,   0,   0,   0,\n",
       "          0,   0,   0,   0,   0,   0,   0,   0,   0,   0,   0,   0,   0,\n",
       "          0,   0],\n",
       "       [  0,   0,   0,   0,   0,   0,   0,   0,   0,   0,   0,   0,   0,\n",
       "          0,   0,   0,   0,   0,   0,   0,   0,   0,   0,   0,   0,   0,\n",
       "          0,   0],\n",
       "       [  0,   0,   0,   0,   0,   0,   0,   0,   0,   0,   0,   0,   0,\n",
       "          0,   0,   0,   0,   0,   0,   0,   0,   0,   0,   0,   0,   0,\n",
       "          0,   0],\n",
       "       [  0,   0,   0,   0,   0,   0,   0,   0,   0,   0,   0,   0,   0,\n",
       "          0,   0,   0,   0,   0,   0,   0,   0,   0,   0,   0,   0,   0,\n",
       "          0,   0],\n",
       "       [  0,   0,   0,   0,   0,   0,   0,   0,   0,   0,   0,   0,   3,\n",
       "         18,  18,  18, 126, 136, 175,  26, 166, 255, 247, 127,   0,   0,\n",
       "          0,   0],\n",
       "       [  0,   0,   0,   0,   0,   0,   0,   0,  30,  36,  94, 154, 170,\n",
       "        253, 253, 253, 253, 253, 225, 172, 253, 242, 195,  64,   0,   0,\n",
       "          0,   0],\n",
       "       [  0,   0,   0,   0,   0,   0,   0,  49, 238, 253, 253, 253, 253,\n",
       "        253, 253, 253, 253, 251,  93,  82,  82,  56,  39,   0,   0,   0,\n",
       "          0,   0],\n",
       "       [  0,   0,   0,   0,   0,   0,   0,  18, 219, 253, 253, 253, 253,\n",
       "        253, 198, 182, 247, 241,   0,   0,   0,   0,   0,   0,   0,   0,\n",
       "          0,   0],\n",
       "       [  0,   0,   0,   0,   0,   0,   0,   0,  80, 156, 107, 253, 253,\n",
       "        205,  11,   0,  43, 154,   0,   0,   0,   0,   0,   0,   0,   0,\n",
       "          0,   0],\n",
       "       [  0,   0,   0,   0,   0,   0,   0,   0,   0,  14,   1, 154, 253,\n",
       "         90,   0,   0,   0,   0,   0,   0,   0,   0,   0,   0,   0,   0,\n",
       "          0,   0],\n",
       "       [  0,   0,   0,   0,   0,   0,   0,   0,   0,   0,   0, 139, 253,\n",
       "        190,   2,   0,   0,   0,   0,   0,   0,   0,   0,   0,   0,   0,\n",
       "          0,   0],\n",
       "       [  0,   0,   0,   0,   0,   0,   0,   0,   0,   0,   0,  11, 190,\n",
       "        253,  70,   0,   0,   0,   0,   0,   0,   0,   0,   0,   0,   0,\n",
       "          0,   0],\n",
       "       [  0,   0,   0,   0,   0,   0,   0,   0,   0,   0,   0,   0,  35,\n",
       "        241, 225, 160, 108,   1,   0,   0,   0,   0,   0,   0,   0,   0,\n",
       "          0,   0],\n",
       "       [  0,   0,   0,   0,   0,   0,   0,   0,   0,   0,   0,   0,   0,\n",
       "         81, 240, 253, 253, 119,  25,   0,   0,   0,   0,   0,   0,   0,\n",
       "          0,   0],\n",
       "       [  0,   0,   0,   0,   0,   0,   0,   0,   0,   0,   0,   0,   0,\n",
       "          0,  45, 186, 253, 253, 150,  27,   0,   0,   0,   0,   0,   0,\n",
       "          0,   0],\n",
       "       [  0,   0,   0,   0,   0,   0,   0,   0,   0,   0,   0,   0,   0,\n",
       "          0,   0,  16,  93, 252, 253, 187,   0,   0,   0,   0,   0,   0,\n",
       "          0,   0],\n",
       "       [  0,   0,   0,   0,   0,   0,   0,   0,   0,   0,   0,   0,   0,\n",
       "          0,   0,   0,   0, 249, 253, 249,  64,   0,   0,   0,   0,   0,\n",
       "          0,   0],\n",
       "       [  0,   0,   0,   0,   0,   0,   0,   0,   0,   0,   0,   0,   0,\n",
       "          0,  46, 130, 183, 253, 253, 207,   2,   0,   0,   0,   0,   0,\n",
       "          0,   0],\n",
       "       [  0,   0,   0,   0,   0,   0,   0,   0,   0,   0,   0,   0,  39,\n",
       "        148, 229, 253, 253, 253, 250, 182,   0,   0,   0,   0,   0,   0,\n",
       "          0,   0],\n",
       "       [  0,   0,   0,   0,   0,   0,   0,   0,   0,   0,  24, 114, 221,\n",
       "        253, 253, 253, 253, 201,  78,   0,   0,   0,   0,   0,   0,   0,\n",
       "          0,   0],\n",
       "       [  0,   0,   0,   0,   0,   0,   0,   0,  23,  66, 213, 253, 253,\n",
       "        253, 253, 198,  81,   2,   0,   0,   0,   0,   0,   0,   0,   0,\n",
       "          0,   0],\n",
       "       [  0,   0,   0,   0,   0,   0,  18, 171, 219, 253, 253, 253, 253,\n",
       "        195,  80,   9,   0,   0,   0,   0,   0,   0,   0,   0,   0,   0,\n",
       "          0,   0],\n",
       "       [  0,   0,   0,   0,  55, 172, 226, 253, 253, 253, 253, 244, 133,\n",
       "         11,   0,   0,   0,   0,   0,   0,   0,   0,   0,   0,   0,   0,\n",
       "          0,   0],\n",
       "       [  0,   0,   0,   0, 136, 253, 253, 253, 212, 135, 132,  16,   0,\n",
       "          0,   0,   0,   0,   0,   0,   0,   0,   0,   0,   0,   0,   0,\n",
       "          0,   0],\n",
       "       [  0,   0,   0,   0,   0,   0,   0,   0,   0,   0,   0,   0,   0,\n",
       "          0,   0,   0,   0,   0,   0,   0,   0,   0,   0,   0,   0,   0,\n",
       "          0,   0],\n",
       "       [  0,   0,   0,   0,   0,   0,   0,   0,   0,   0,   0,   0,   0,\n",
       "          0,   0,   0,   0,   0,   0,   0,   0,   0,   0,   0,   0,   0,\n",
       "          0,   0],\n",
       "       [  0,   0,   0,   0,   0,   0,   0,   0,   0,   0,   0,   0,   0,\n",
       "          0,   0,   0,   0,   0,   0,   0,   0,   0,   0,   0,   0,   0,\n",
       "          0,   0]], dtype=uint8)"
      ]
     },
     "execution_count": 7,
     "metadata": {},
     "output_type": "execute_result"
    }
   ],
   "source": [
    "X_train[0]"
   ]
  },
  {
   "cell_type": "code",
   "execution_count": 8,
   "id": "e5be1916",
   "metadata": {},
   "outputs": [
    {
     "data": {
      "text/plain": [
       "(10000, 28, 28)"
      ]
     },
     "execution_count": 8,
     "metadata": {},
     "output_type": "execute_result"
    }
   ],
   "source": [
    "X_test.shape"
   ]
  },
  {
   "cell_type": "code",
   "execution_count": 9,
   "id": "6c7a363d",
   "metadata": {},
   "outputs": [
    {
     "data": {
      "text/plain": [
       "array([5, 0, 4, ..., 5, 6, 8], dtype=uint8)"
      ]
     },
     "execution_count": 9,
     "metadata": {},
     "output_type": "execute_result"
    }
   ],
   "source": [
    "y_train"
   ]
  },
  {
   "cell_type": "code",
   "execution_count": 10,
   "id": "7a6fe8fd",
   "metadata": {},
   "outputs": [
    {
     "data": {
      "text/plain": [
       "array([7, 2, 1, ..., 4, 5, 6], dtype=uint8)"
      ]
     },
     "execution_count": 10,
     "metadata": {},
     "output_type": "execute_result"
    }
   ],
   "source": [
    "y_test"
   ]
  },
  {
   "cell_type": "code",
   "execution_count": 37,
   "id": "8110128d",
   "metadata": {},
   "outputs": [
    {
     "data": {
      "text/plain": [
       "<matplotlib.image.AxesImage at 0x2396025f510>"
      ]
     },
     "execution_count": 37,
     "metadata": {},
     "output_type": "execute_result"
    },
    {
     "data": {
      "image/png": "[encoded data removed]",
      "text/plain": [
       "<Figure size 640x480 with 1 Axes>"
      ]
     },
     "metadata": {},
     "output_type": "display_data"
    }
   ],
   "source": [
    "import matplotlib.pyplot as plt\n",
    "plt.imshow(X_train[0])"
   ]
  },
  {
   "cell_type": "code",
   "execution_count": 12,
   "id": "89b115d6",
   "metadata": {},
   "outputs": [
    {
     "data": {
      "text/plain": [
       "<matplotlib.image.AxesImage at 0x2395239a810>"
      ]
     },
     "execution_count": 12,
     "metadata": {},
     "output_type": "execute_result"
    },
    {
     "data": {
      "image/png": "[encoded data removed]",
      "text/plain": [
       "<Figure size 640x480 with 1 Axes>"
      ]
     },
     "metadata": {},
     "output_type": "display_data"
    }
   ],
   "source": [
    "plt.imshow(X_train[2])"
   ]
  },
  {
   "cell_type": "code",
   "execution_count": 38,
   "id": "c6617704",
   "metadata": {},
   "outputs": [
    {
     "data": {
      "text/plain": [
       "<matplotlib.image.AxesImage at 0x239602e9d10>"
      ]
     },
     "execution_count": 38,
     "metadata": {},
     "output_type": "execute_result"
    },
    {
     "data": {
      "image/png": "[encoded data removed]",
      "text/plain": [
       "<Figure size 640x480 with 1 Axes>"
      ]
     },
     "metadata": {},
     "output_type": "display_data"
    }
   ],
   "source": [
    "plt.imshow(X_train[1])"
   ]
  },
  {
   "cell_type": "code",
   "execution_count": 39,
   "id": "135a338f",
   "metadata": {},
   "outputs": [],
   "source": [
    "model= Sequential()"
   ]
  },
  {
   "cell_type": "code",
   "execution_count": 40,
   "id": "f61d51a7",
   "metadata": {},
   "outputs": [],
   "source": [
    "model.add(Flatten(input_shape= (28,28)))"
   ]
  },
  {
   "cell_type": "code",
   "execution_count": 41,
   "id": "7c792c52",
   "metadata": {},
   "outputs": [],
   "source": [
    "model.add(Dense(128, activation ='relu'))\n",
    "model.add(Dense(10, activation ='softmax'))\n"
   ]
  },
  {
   "cell_type": "code",
   "execution_count": 42,
   "id": "0fe888bf",
   "metadata": {},
   "outputs": [
    {
     "name": "stdout",
     "output_type": "stream",
     "text": [
      "Model: \"sequential_1\"\n",
      "_________________________________________________________________\n",
      " Layer (type)                Output Shape              Param #   \n",
      "=================================================================\n",
      " flatten_1 (Flatten)         (None, 784)               0         \n",
      "                                                                 \n",
      " dense_2 (Dense)             (None, 128)               100480    \n",
      "                                                                 \n",
      " dense_3 (Dense)             (None, 10)                1290      \n",
      "                                                                 \n",
      "=================================================================\n",
      "Total params: 101770 (397.54 KB)\n",
      "Trainable params: 101770 (397.54 KB)\n",
      "Non-trainable params: 0 (0.00 Byte)\n",
      "_________________________________________________________________\n"
     ]
    }
   ],
   "source": [
    "model.summary()"
   ]
  },
  {
   "cell_type": "code",
   "execution_count": 43,
   "id": "6310d64b",
   "metadata": {},
   "outputs": [],
   "source": [
    "model.compile(loss= 'sparse_categorical_crossentropy', optimizer = 'Adam', metrics= 'accuracy')\n"
   ]
  },
  {
   "cell_type": "code",
   "execution_count": 44,
   "id": "64016893",
   "metadata": {},
   "outputs": [
    {
     "name": "stdout",
     "output_type": "stream",
     "text": [
      "Epoch 1/100\n",
      "1500/1500 [==============================] - 8s 5ms/step - loss: 3.2454 - accuracy: 0.8521 - val_loss: 0.5704 - val_accuracy: 0.8718\n",
      "Epoch 2/100\n",
      "1500/1500 [==============================] - 5s 3ms/step - loss: 0.4462 - accuracy: 0.8992 - val_loss: 0.3856 - val_accuracy: 0.9170\n",
      "Epoch 3/100\n",
      "1500/1500 [==============================] - 5s 3ms/step - loss: 0.3055 - accuracy: 0.9227 - val_loss: 0.3111 - val_accuracy: 0.9282\n",
      "Epoch 4/100\n",
      "1500/1500 [==============================] - 5s 3ms/step - loss: 0.2632 - accuracy: 0.9321 - val_loss: 0.2842 - val_accuracy: 0.9317\n",
      "Epoch 5/100\n",
      "1500/1500 [==============================] - 5s 3ms/step - loss: 0.2389 - accuracy: 0.9379 - val_loss: 0.2617 - val_accuracy: 0.9406\n",
      "Epoch 6/100\n",
      "1500/1500 [==============================] - 5s 3ms/step - loss: 0.2281 - accuracy: 0.9418 - val_loss: 0.2779 - val_accuracy: 0.9341\n",
      "Epoch 7/100\n",
      "1500/1500 [==============================] - 5s 4ms/step - loss: 0.2111 - accuracy: 0.9479 - val_loss: 0.3298 - val_accuracy: 0.9316\n",
      "Epoch 8/100\n",
      "1500/1500 [==============================] - 5s 3ms/step - loss: 0.2010 - accuracy: 0.9501 - val_loss: 0.2954 - val_accuracy: 0.9392\n",
      "Epoch 9/100\n",
      "1500/1500 [==============================] - 5s 3ms/step - loss: 0.1878 - accuracy: 0.9543 - val_loss: 0.2407 - val_accuracy: 0.9424\n",
      "Epoch 10/100\n",
      "1500/1500 [==============================] - 5s 3ms/step - loss: 0.1848 - accuracy: 0.9550 - val_loss: 0.2943 - val_accuracy: 0.9450\n",
      "Epoch 11/100\n",
      "1500/1500 [==============================] - 5s 3ms/step - loss: 0.1821 - accuracy: 0.9557 - val_loss: 0.2817 - val_accuracy: 0.9519\n",
      "Epoch 12/100\n",
      "1500/1500 [==============================] - 5s 3ms/step - loss: 0.1738 - accuracy: 0.9570 - val_loss: 0.2749 - val_accuracy: 0.9482\n",
      "Epoch 13/100\n",
      "1500/1500 [==============================] - 5s 3ms/step - loss: 0.1738 - accuracy: 0.9576 - val_loss: 0.2789 - val_accuracy: 0.9462\n",
      "Epoch 14/100\n",
      "1500/1500 [==============================] - 5s 3ms/step - loss: 0.1595 - accuracy: 0.9606 - val_loss: 0.3334 - val_accuracy: 0.9479\n",
      "Epoch 15/100\n",
      "1500/1500 [==============================] - 5s 3ms/step - loss: 0.1575 - accuracy: 0.9625 - val_loss: 0.2975 - val_accuracy: 0.9457\n",
      "Epoch 16/100\n",
      "1500/1500 [==============================] - 5s 3ms/step - loss: 0.1504 - accuracy: 0.9621 - val_loss: 0.3334 - val_accuracy: 0.9513\n",
      "Epoch 17/100\n",
      "1500/1500 [==============================] - 5s 3ms/step - loss: 0.1563 - accuracy: 0.9618 - val_loss: 0.3805 - val_accuracy: 0.9436\n",
      "Epoch 18/100\n",
      "1500/1500 [==============================] - 5s 3ms/step - loss: 0.1534 - accuracy: 0.9628 - val_loss: 0.3682 - val_accuracy: 0.9466\n",
      "Epoch 19/100\n",
      "1500/1500 [==============================] - 5s 3ms/step - loss: 0.1520 - accuracy: 0.9632 - val_loss: 0.3378 - val_accuracy: 0.9463\n",
      "Epoch 20/100\n",
      "1500/1500 [==============================] - 5s 3ms/step - loss: 0.1463 - accuracy: 0.9636 - val_loss: 0.3610 - val_accuracy: 0.9466\n",
      "Epoch 21/100\n",
      "1500/1500 [==============================] - 5s 3ms/step - loss: 0.1436 - accuracy: 0.9652 - val_loss: 0.3941 - val_accuracy: 0.9473\n",
      "Epoch 22/100\n",
      "1500/1500 [==============================] - 5s 3ms/step - loss: 0.1500 - accuracy: 0.9645 - val_loss: 0.3451 - val_accuracy: 0.9449\n",
      "Epoch 23/100\n",
      "1500/1500 [==============================] - 5s 3ms/step - loss: 0.1417 - accuracy: 0.9669 - val_loss: 0.3717 - val_accuracy: 0.9495\n",
      "Epoch 24/100\n",
      "1500/1500 [==============================] - 5s 3ms/step - loss: 0.1522 - accuracy: 0.9653 - val_loss: 0.4682 - val_accuracy: 0.9446\n",
      "Epoch 25/100\n",
      "1500/1500 [==============================] - 5s 3ms/step - loss: 0.1394 - accuracy: 0.9680 - val_loss: 0.4042 - val_accuracy: 0.9479\n",
      "Epoch 26/100\n",
      "1500/1500 [==============================] - 5s 3ms/step - loss: 0.1348 - accuracy: 0.9692 - val_loss: 0.4201 - val_accuracy: 0.9508\n",
      "Epoch 27/100\n",
      "1500/1500 [==============================] - 5s 3ms/step - loss: 0.1389 - accuracy: 0.9684 - val_loss: 0.4556 - val_accuracy: 0.9456\n",
      "Epoch 28/100\n",
      "1500/1500 [==============================] - 5s 3ms/step - loss: 0.1308 - accuracy: 0.9705 - val_loss: 0.4652 - val_accuracy: 0.9471\n",
      "Epoch 29/100\n",
      "1500/1500 [==============================] - 5s 3ms/step - loss: 0.1382 - accuracy: 0.9698 - val_loss: 0.4118 - val_accuracy: 0.9482\n",
      "Epoch 30/100\n",
      "1500/1500 [==============================] - 5s 3ms/step - loss: 0.1340 - accuracy: 0.9693 - val_loss: 0.4791 - val_accuracy: 0.9431\n",
      "Epoch 31/100\n",
      "1500/1500 [==============================] - 5s 3ms/step - loss: 0.1224 - accuracy: 0.9706 - val_loss: 0.4732 - val_accuracy: 0.9456\n",
      "Epoch 32/100\n",
      "1500/1500 [==============================] - 5s 3ms/step - loss: 0.1276 - accuracy: 0.9699 - val_loss: 0.4835 - val_accuracy: 0.9447\n",
      "Epoch 33/100\n",
      "1500/1500 [==============================] - 5s 3ms/step - loss: 0.1273 - accuracy: 0.9701 - val_loss: 0.4684 - val_accuracy: 0.9495\n",
      "Epoch 34/100\n",
      "1500/1500 [==============================] - 5s 3ms/step - loss: 0.1243 - accuracy: 0.9726 - val_loss: 0.5531 - val_accuracy: 0.9432\n",
      "Epoch 35/100\n",
      "1500/1500 [==============================] - 5s 3ms/step - loss: 0.1241 - accuracy: 0.9711 - val_loss: 0.5330 - val_accuracy: 0.9451\n",
      "Epoch 36/100\n",
      "1500/1500 [==============================] - 5s 3ms/step - loss: 0.1279 - accuracy: 0.9711 - val_loss: 0.4537 - val_accuracy: 0.9499\n",
      "Epoch 37/100\n",
      "1500/1500 [==============================] - 5s 3ms/step - loss: 0.1211 - accuracy: 0.9726 - val_loss: 0.5216 - val_accuracy: 0.9499\n",
      "Epoch 38/100\n",
      "1500/1500 [==============================] - 4s 3ms/step - loss: 0.1223 - accuracy: 0.9727 - val_loss: 0.5813 - val_accuracy: 0.9453\n",
      "Epoch 39/100\n",
      "1500/1500 [==============================] - 5s 3ms/step - loss: 0.1301 - accuracy: 0.9725 - val_loss: 0.5135 - val_accuracy: 0.9503\n",
      "Epoch 40/100\n",
      "1500/1500 [==============================] - 5s 3ms/step - loss: 0.1231 - accuracy: 0.9730 - val_loss: 0.5954 - val_accuracy: 0.9467\n",
      "Epoch 41/100\n",
      "1500/1500 [==============================] - 4s 3ms/step - loss: 0.1207 - accuracy: 0.9732 - val_loss: 0.6222 - val_accuracy: 0.9504\n",
      "Epoch 42/100\n",
      "1500/1500 [==============================] - 5s 3ms/step - loss: 0.1218 - accuracy: 0.9740 - val_loss: 0.5823 - val_accuracy: 0.9466\n",
      "Epoch 43/100\n",
      "1500/1500 [==============================] - 5s 3ms/step - loss: 0.1179 - accuracy: 0.9742 - val_loss: 0.5141 - val_accuracy: 0.9508\n",
      "Epoch 44/100\n",
      "1500/1500 [==============================] - 5s 3ms/step - loss: 0.1192 - accuracy: 0.9737 - val_loss: 0.6161 - val_accuracy: 0.9513\n",
      "Epoch 45/100\n",
      "1500/1500 [==============================] - 5s 3ms/step - loss: 0.1143 - accuracy: 0.9748 - val_loss: 0.5518 - val_accuracy: 0.9495\n",
      "Epoch 46/100\n",
      "1500/1500 [==============================] - 5s 3ms/step - loss: 0.1088 - accuracy: 0.9756 - val_loss: 0.6355 - val_accuracy: 0.9517\n",
      "Epoch 47/100\n",
      "1500/1500 [==============================] - 5s 3ms/step - loss: 0.1240 - accuracy: 0.9737 - val_loss: 0.5826 - val_accuracy: 0.9532\n",
      "Epoch 48/100\n",
      "1500/1500 [==============================] - 5s 3ms/step - loss: 0.1181 - accuracy: 0.9753 - val_loss: 0.6532 - val_accuracy: 0.9497\n",
      "Epoch 49/100\n",
      "1500/1500 [==============================] - 5s 3ms/step - loss: 0.1153 - accuracy: 0.9748 - val_loss: 0.6277 - val_accuracy: 0.9528\n",
      "Epoch 50/100\n",
      "1500/1500 [==============================] - 5s 3ms/step - loss: 0.1131 - accuracy: 0.9764 - val_loss: 0.6148 - val_accuracy: 0.9498\n",
      "Epoch 51/100\n",
      "1500/1500 [==============================] - 5s 3ms/step - loss: 0.1135 - accuracy: 0.9746 - val_loss: 0.6726 - val_accuracy: 0.9510\n",
      "Epoch 52/100\n",
      "1500/1500 [==============================] - 5s 3ms/step - loss: 0.1030 - accuracy: 0.9762 - val_loss: 0.6402 - val_accuracy: 0.9498\n",
      "Epoch 53/100\n",
      "1500/1500 [==============================] - 5s 3ms/step - loss: 0.1205 - accuracy: 0.9753 - val_loss: 0.6698 - val_accuracy: 0.9532\n",
      "Epoch 54/100\n",
      "1500/1500 [==============================] - 5s 3ms/step - loss: 0.1202 - accuracy: 0.9752 - val_loss: 0.5752 - val_accuracy: 0.9526\n",
      "Epoch 55/100\n",
      "1500/1500 [==============================] - 5s 3ms/step - loss: 0.1078 - accuracy: 0.9761 - val_loss: 0.6267 - val_accuracy: 0.9488\n",
      "Epoch 56/100\n",
      "1500/1500 [==============================] - 5s 3ms/step - loss: 0.1177 - accuracy: 0.9769 - val_loss: 0.7573 - val_accuracy: 0.9485\n",
      "Epoch 57/100\n"
     ]
    },
    {
     "name": "stdout",
     "output_type": "stream",
     "text": [
      "1500/1500 [==============================] - 5s 3ms/step - loss: 0.1112 - accuracy: 0.9765 - val_loss: 0.7546 - val_accuracy: 0.9503\n",
      "Epoch 58/100\n",
      "1500/1500 [==============================] - 5s 3ms/step - loss: 0.1137 - accuracy: 0.9752 - val_loss: 0.6976 - val_accuracy: 0.9460\n",
      "Epoch 59/100\n",
      "1500/1500 [==============================] - 5s 3ms/step - loss: 0.1171 - accuracy: 0.9767 - val_loss: 0.7314 - val_accuracy: 0.9530\n",
      "Epoch 60/100\n",
      "1500/1500 [==============================] - 5s 3ms/step - loss: 0.1141 - accuracy: 0.9774 - val_loss: 0.8565 - val_accuracy: 0.9528\n",
      "Epoch 61/100\n",
      "1500/1500 [==============================] - 5s 3ms/step - loss: 0.1171 - accuracy: 0.9774 - val_loss: 0.8835 - val_accuracy: 0.9514\n",
      "Epoch 62/100\n",
      "1500/1500 [==============================] - 5s 3ms/step - loss: 0.1057 - accuracy: 0.9779 - val_loss: 0.7658 - val_accuracy: 0.9527\n",
      "Epoch 63/100\n",
      "1500/1500 [==============================] - 5s 3ms/step - loss: 0.0995 - accuracy: 0.9784 - val_loss: 0.7722 - val_accuracy: 0.9509\n",
      "Epoch 64/100\n",
      "1500/1500 [==============================] - 5s 3ms/step - loss: 0.1162 - accuracy: 0.9770 - val_loss: 0.7629 - val_accuracy: 0.9503\n",
      "Epoch 65/100\n",
      "1500/1500 [==============================] - 5s 3ms/step - loss: 0.0990 - accuracy: 0.9786 - val_loss: 0.8664 - val_accuracy: 0.9502\n",
      "Epoch 66/100\n",
      "1500/1500 [==============================] - 4s 3ms/step - loss: 0.1037 - accuracy: 0.9784 - val_loss: 0.9102 - val_accuracy: 0.9530\n",
      "Epoch 67/100\n",
      "1500/1500 [==============================] - 5s 3ms/step - loss: 0.1085 - accuracy: 0.9784 - val_loss: 0.8973 - val_accuracy: 0.9509\n",
      "Epoch 68/100\n",
      "1500/1500 [==============================] - 4s 3ms/step - loss: 0.0976 - accuracy: 0.9787 - val_loss: 0.8474 - val_accuracy: 0.9522\n",
      "Epoch 69/100\n",
      "1500/1500 [==============================] - 5s 3ms/step - loss: 0.1111 - accuracy: 0.9781 - val_loss: 0.8599 - val_accuracy: 0.9445\n",
      "Epoch 70/100\n",
      "1500/1500 [==============================] - 5s 3ms/step - loss: 0.1058 - accuracy: 0.9793 - val_loss: 1.0162 - val_accuracy: 0.9468\n",
      "Epoch 71/100\n",
      "1500/1500 [==============================] - 5s 3ms/step - loss: 0.1095 - accuracy: 0.9789 - val_loss: 0.8902 - val_accuracy: 0.9490\n",
      "Epoch 72/100\n",
      "1500/1500 [==============================] - 5s 3ms/step - loss: 0.1156 - accuracy: 0.9769 - val_loss: 0.9302 - val_accuracy: 0.9503\n",
      "Epoch 73/100\n",
      "1500/1500 [==============================] - 5s 3ms/step - loss: 0.1012 - accuracy: 0.9784 - val_loss: 1.0136 - val_accuracy: 0.9509\n",
      "Epoch 74/100\n",
      "1500/1500 [==============================] - 5s 3ms/step - loss: 0.1055 - accuracy: 0.9791 - val_loss: 0.9202 - val_accuracy: 0.9507\n",
      "Epoch 75/100\n",
      "1500/1500 [==============================] - 5s 3ms/step - loss: 0.1017 - accuracy: 0.9799 - val_loss: 0.9114 - val_accuracy: 0.9523\n",
      "Epoch 76/100\n",
      "1500/1500 [==============================] - 5s 3ms/step - loss: 0.1067 - accuracy: 0.9783 - val_loss: 0.9862 - val_accuracy: 0.9502\n",
      "Epoch 77/100\n",
      "1500/1500 [==============================] - 5s 3ms/step - loss: 0.0998 - accuracy: 0.9792 - val_loss: 0.9509 - val_accuracy: 0.9538\n",
      "Epoch 78/100\n",
      "1500/1500 [==============================] - 5s 3ms/step - loss: 0.1054 - accuracy: 0.9795 - val_loss: 0.9452 - val_accuracy: 0.9503\n",
      "Epoch 79/100\n",
      "1500/1500 [==============================] - 5s 3ms/step - loss: 0.1114 - accuracy: 0.9784 - val_loss: 1.1487 - val_accuracy: 0.9503\n",
      "Epoch 80/100\n",
      "1500/1500 [==============================] - 5s 3ms/step - loss: 0.1011 - accuracy: 0.9795 - val_loss: 1.0959 - val_accuracy: 0.9489\n",
      "Epoch 81/100\n",
      "1500/1500 [==============================] - 5s 3ms/step - loss: 0.1051 - accuracy: 0.9783 - val_loss: 1.0909 - val_accuracy: 0.9521\n",
      "Epoch 82/100\n",
      "1500/1500 [==============================] - 5s 3ms/step - loss: 0.1115 - accuracy: 0.9792 - val_loss: 0.9949 - val_accuracy: 0.9516\n",
      "Epoch 83/100\n",
      "1500/1500 [==============================] - 5s 3ms/step - loss: 0.1058 - accuracy: 0.9803 - val_loss: 1.1437 - val_accuracy: 0.9498\n",
      "Epoch 84/100\n",
      "1500/1500 [==============================] - 5s 3ms/step - loss: 0.1027 - accuracy: 0.9793 - val_loss: 1.1844 - val_accuracy: 0.9484\n",
      "Epoch 85/100\n",
      "1500/1500 [==============================] - 5s 3ms/step - loss: 0.1096 - accuracy: 0.9804 - val_loss: 1.2232 - val_accuracy: 0.9526\n",
      "Epoch 86/100\n",
      "1500/1500 [==============================] - 4s 3ms/step - loss: 0.0967 - accuracy: 0.9811 - val_loss: 1.0282 - val_accuracy: 0.9553\n",
      "Epoch 87/100\n",
      "1500/1500 [==============================] - 5s 3ms/step - loss: 0.1031 - accuracy: 0.9806 - val_loss: 1.0812 - val_accuracy: 0.9514\n",
      "Epoch 88/100\n",
      "1500/1500 [==============================] - 5s 3ms/step - loss: 0.1013 - accuracy: 0.9799 - val_loss: 1.1993 - val_accuracy: 0.9545\n",
      "Epoch 89/100\n",
      "1500/1500 [==============================] - 5s 3ms/step - loss: 0.0921 - accuracy: 0.9816 - val_loss: 1.0919 - val_accuracy: 0.9533\n",
      "Epoch 90/100\n",
      "1500/1500 [==============================] - 5s 3ms/step - loss: 0.0904 - accuracy: 0.9814 - val_loss: 1.1320 - val_accuracy: 0.9527\n",
      "Epoch 91/100\n",
      "1500/1500 [==============================] - 5s 3ms/step - loss: 0.1155 - accuracy: 0.9787 - val_loss: 1.2957 - val_accuracy: 0.9522\n",
      "Epoch 92/100\n",
      "1500/1500 [==============================] - 5s 3ms/step - loss: 0.1037 - accuracy: 0.9806 - val_loss: 1.2051 - val_accuracy: 0.9513\n",
      "Epoch 93/100\n",
      "1500/1500 [==============================] - 5s 3ms/step - loss: 0.1052 - accuracy: 0.9802 - val_loss: 1.2383 - val_accuracy: 0.9482\n",
      "Epoch 94/100\n",
      "1500/1500 [==============================] - 5s 3ms/step - loss: 0.0892 - accuracy: 0.9811 - val_loss: 1.1149 - val_accuracy: 0.9532\n",
      "Epoch 95/100\n",
      "1500/1500 [==============================] - 5s 3ms/step - loss: 0.1072 - accuracy: 0.9806 - val_loss: 1.1959 - val_accuracy: 0.9529\n",
      "Epoch 96/100\n",
      "1500/1500 [==============================] - 5s 3ms/step - loss: 0.1022 - accuracy: 0.9816 - val_loss: 1.3742 - val_accuracy: 0.9526\n",
      "Epoch 97/100\n",
      "1500/1500 [==============================] - 5s 3ms/step - loss: 0.0980 - accuracy: 0.9817 - val_loss: 1.2753 - val_accuracy: 0.9538\n",
      "Epoch 98/100\n",
      "1500/1500 [==============================] - 6s 4ms/step - loss: 0.1022 - accuracy: 0.9809 - val_loss: 1.2773 - val_accuracy: 0.9554\n",
      "Epoch 99/100\n",
      "1500/1500 [==============================] - 4s 3ms/step - loss: 0.0971 - accuracy: 0.9814 - val_loss: 1.2239 - val_accuracy: 0.9539\n",
      "Epoch 100/100\n",
      "1500/1500 [==============================] - 5s 3ms/step - loss: 0.0799 - accuracy: 0.9823 - val_loss: 1.3388 - val_accuracy: 0.9532\n"
     ]
    }
   ],
   "source": [
    "history = model.fit(X_train, y_train,epochs= 100,validation_split=0.2)"
   ]
  },
  {
   "cell_type": "code",
   "execution_count": 49,
   "id": "642a78ea",
   "metadata": {},
   "outputs": [
    {
     "name": "stdout",
     "output_type": "stream",
     "text": [
      "313/313 [==============================] - 1s 2ms/step\n"
     ]
    },
    {
     "data": {
      "text/plain": [
       "array([[0., 0., 0., ..., 1., 0., 0.],\n",
       "       [0., 0., 1., ..., 0., 0., 0.],\n",
       "       [0., 1., 0., ..., 0., 0., 0.],\n",
       "       ...,\n",
       "       [0., 0., 0., ..., 0., 0., 0.],\n",
       "       [0., 0., 0., ..., 0., 0., 0.],\n",
       "       [0., 0., 0., ..., 0., 0., 0.]], dtype=float32)"
      ]
     },
     "execution_count": 49,
     "metadata": {},
     "output_type": "execute_result"
    }
   ],
   "source": [
    "y_prob= model.predict(X_test)\n",
    "y_prob"
   ]
  },
  {
   "cell_type": "code",
   "execution_count": 50,
   "id": "e8accdfa",
   "metadata": {},
   "outputs": [],
   "source": [
    "y_pred = y_prob.argmax(axis=1)"
   ]
  },
  {
   "cell_type": "code",
   "execution_count": 51,
   "id": "e1fc136f",
   "metadata": {},
   "outputs": [
    {
     "data": {
      "text/plain": [
       "0.9522"
      ]
     },
     "execution_count": 51,
     "metadata": {},
     "output_type": "execute_result"
    }
   ],
   "source": [
    "from sklearn.metrics import accuracy_score\n",
    "accuracy_score(y_test, y_pred)"
   ]
  },
  {
   "cell_type": "markdown",
   "id": "ddee9bd3",
   "metadata": {},
   "source": [
    "# Visualization"
   ]
  },
  {
   "cell_type": "code",
   "execution_count": 45,
   "id": "a2b83e2d",
   "metadata": {},
   "outputs": [
    {
     "data": {
      "text/plain": [
       "[<matplotlib.lines.Line2D at 0x239602fb550>]"
      ]
     },
     "execution_count": 45,
     "metadata": {},
     "output_type": "execute_result"
    },
    {
     "data": {
      "image/png": "[encoded data removed]",
      "text/plain": [
       "<Figure size 640x480 with 1 Axes>"
      ]
     },
     "metadata": {},
     "output_type": "display_data"
    }
   ],
   "source": [
    "plt.plot(history.history['loss'])"
   ]
  },
  {
   "cell_type": "code",
   "execution_count": 46,
   "id": "6d8438e1",
   "metadata": {},
   "outputs": [
    {
     "data": {
      "text/plain": [
       "[<matplotlib.lines.Line2D at 0x23960465e90>]"
      ]
     },
     "execution_count": 46,
     "metadata": {},
     "output_type": "execute_result"
    },
    {
     "data": {
      "image/png": "[encoded data removed]",
      "text/plain": [
       "<Figure size 640x480 with 1 Axes>"
      ]
     },
     "metadata": {},
     "output_type": "display_data"
    }
   ],
   "source": [
    "plt.plot(history.history['val_loss'])"
   ]
  },
  {
   "cell_type": "code",
   "execution_count": 47,
   "id": "19024dc7",
   "metadata": {},
   "outputs": [
    {
     "data": {
      "text/plain": [
       "[<matplotlib.lines.Line2D at 0x2395c29c210>]"
      ]
     },
     "execution_count": 47,
     "metadata": {},
     "output_type": "execute_result"
    },
    {
     "data": {
      "image/png": "[encoded data removed]",
      "text/plain": [
       "<Figure size 640x480 with 1 Axes>"
      ]
     },
     "metadata": {},
     "output_type": "display_data"
    }
   ],
   "source": [
    "plt.plot(history.history['accuracy'])"
   ]
  },
  {
   "cell_type": "code",
   "execution_count": 48,
   "id": "44042881",
   "metadata": {},
   "outputs": [
    {
     "data": {
      "text/plain": [
       "[<matplotlib.lines.Line2D at 0x2395c314210>]"
      ]
     },
     "execution_count": 48,
     "metadata": {},
     "output_type": "execute_result"
    },
    {
     "data": {
      "image/png": "[encoded data removed]",
      "text/plain": [
       "<Figure size 640x480 with 1 Axes>"
      ]
     },
     "metadata": {},
     "output_type": "display_data"
    }
   ],
   "source": [
    "plt.plot(history.history['val_accuracy'])"
   ]
  },
  {
   "cell_type": "code",
   "execution_count": null,
   "id": "03b9bd13",
   "metadata": {},
   "outputs": [],
   "source": []
  }
 ],
 "metadata": {
  "kernelspec": {
   "display_name": "Python 3 (ipykernel)",
   "language": "python",
   "name": "python3"
  },
  "language_info": {
   "codemirror_mode": {
    "name": "ipython",
    "version": 3
   },
   "file_extension": ".py",
   "mimetype": "text/x-python",
   "name": "python",
   "nbconvert_exporter": "python",
   "pygments_lexer": "ipython3",
   "version": "3.11.4"
  }
 },
 "nbformat": 4,
 "nbformat_minor": 5
}
