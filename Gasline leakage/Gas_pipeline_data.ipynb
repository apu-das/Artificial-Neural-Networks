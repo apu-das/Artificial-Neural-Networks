{
  "nbformat": 4,
  "nbformat_minor": 0,
  "metadata": {
    "colab": {
      "provenance": []
    },
    "kernelspec": {
      "name": "python3",
      "display_name": "Python 3"
    },
    "language_info": {
      "name": "python"
    }
  },
  "cells": [
    {
      "cell_type": "code",
      "execution_count": 6,
      "metadata": {
        "id": "FN0hrUf16sGn"
      },
      "outputs": [],
      "source": []
    },
    {
      "cell_type": "code",
      "source": [],
      "metadata": {
        "id": "XSLZZiDS6vnb"
      },
      "execution_count": 6,
      "outputs": []
    },
    {
      "cell_type": "code",
      "source": [
        "import pandas as pd\n",
        "import numpy as np\n",
        "\n",
        "# Define ranges for each condition\n",
        "conditions = {\n",
        "    \"Non-Leak\": {\n",
        "        \"Gas_Concentration(ppm)\": (0.3, 0.9),\n",
        "        \"Temperature(\\u00b0C)\": (24.7, 25.9),\n",
        "        \"Pressure(psi)\": (100, 101),\n",
        "        \"Thermal_Gradient(\\u00b0C/m)\": (0.03, 0.07),\n",
        "        \"Acoustic_Amplitude(dB)\": (9, 11),\n",
        "        \"Acoustic_Frequency(Hz)\": (50, 60),\n",
        "        \"Flow_Rate(L/min)\": (60.7, 61.1),\n",
        "    },\n",
        "    \"Small\": {\n",
        "        \"Gas_Concentration(ppm)\": (150, 200),\n",
        "        \"Temperature(\\u00b0C)\": (22.2, 23),\n",
        "        \"Pressure(psi)\": (83, 85),\n",
        "        \"Thermal_Gradient(\\u00b0C/m)\": (0.7, 0.9),\n",
        "        \"Acoustic_Amplitude(dB)\": (30, 35),\n",
        "        \"Acoustic_Frequency(Hz)\": (310, 360),\n",
        "        \"Flow_Rate(L/min)\": (54, 56),\n",
        "    },\n",
        "    \"Medium\": {\n",
        "        \"Gas_Concentration(ppm)\": (650, 720),\n",
        "        \"Temperature(\\u00b0C)\": (20.6, 21.6),\n",
        "        \"Pressure(psi)\": (75, 78),\n",
        "        \"Thermal_Gradient(\\u00b0C/m)\": (1.5, 1.8),\n",
        "        \"Acoustic_Amplitude(dB)\": (50, 52),\n",
        "        \"Acoustic_Frequency(Hz)\": (600, 650),\n",
        "        \"Flow_Rate(L/min)\": (52, 53.5),\n",
        "    },\n",
        "    \"Large\": {\n",
        "        \"Gas_Concentration(ppm)\": (1000, 1220),\n",
        "        \"Temperature(\\u00b0C)\": (18, 19.9),\n",
        "        \"Pressure(psi)\": (59, 62),\n",
        "        \"Thermal_Gradient(\\u00b0C/m)\": (2.3, 2.8),\n",
        "        \"Acoustic_Amplitude(dB)\": (72, 76),\n",
        "        \"Acoustic_Frequency(Hz)\": (770, 850),\n",
        "        \"Flow_Rate(L/min)\": (43.5, 46),\n",
        "    }\n",
        "}\n",
        "\n",
        "# Segment to leak type mapping\n",
        "segment_leak_mapping = {\n",
        "    1: \"Non-Leak\",\n",
        "    2: \"Small\",\n",
        "    3: \"Non-Leak\",\n",
        "    4: \"Medium\",\n",
        "    5: \"Non-Leak\",\n",
        "    6: \"Large\",\n",
        "    7: \"Non-Leak\",\n",
        "    8: \"Small\",\n",
        "    9: \"Non-Leak\",\n",
        "    10: \"Medium\",\n",
        "    11: \"Non-Leak\",\n",
        "    12: \"Large\"\n",
        "}\n",
        "\n",
        "# Generate data\n",
        "rows = 15000\n",
        "data = []\n",
        "serial_number = 1\n",
        "\n",
        "for _ in range(rows):\n",
        "    segment = (serial_number - 1) % 12 + 1  # Cycle through segments 1 to 12\n",
        "    leak_type = segment_leak_mapping[segment]  # Get leak type based on segment\n",
        "\n",
        "    # Define leak status: 0 for Non-Leak, 1 for any leak type\n",
        "    leak_status = 0 if leak_type == \"Non-Leak\" else 1\n",
        "\n",
        "    # Initialize row with fixed columns\n",
        "    row = {\n",
        "        \"Serial\": serial_number,\n",
        "        \"Segment\": segment,\n",
        "        \"Leak_Type\": leak_type,\n",
        "        \"Leak_Status\": leak_status,\n",
        "    }\n",
        "\n",
        "    # Populate sensor data based on leak type\n",
        "    condition_key = \"Non-Leak\" if leak_type == \"Non-Leak\" else leak_type\n",
        "    for feature, (low, high) in conditions[condition_key].items():\n",
        "        row[feature] = round(np.random.uniform(low, high), 2)\n",
        "\n",
        "    data.append(row)\n",
        "    serial_number += 1\n",
        "\n",
        "# Create DataFrame\n",
        "columns = [\n",
        "    \"Serial\",\n",
        "    \"Gas_Concentration(ppm)\",\n",
        "    \"Temperature(\\u00b0C)\",\n",
        "    \"Pressure(psi)\",\n",
        "    \"Thermal_Gradient(\\u00b0C/m)\",\n",
        "    \"Acoustic_Amplitude(dB)\",\n",
        "    \"Acoustic_Frequency(Hz)\",\n",
        "    \"Flow_Rate(L/min)\",\n",
        "    \"Segment\",\n",
        "    \"Leak_Type\",\n",
        "    \"Leak_Status\",\n",
        "]\n",
        "\n",
        "df = pd.DataFrame(data, columns=columns)\n",
        "\n",
        "# Save to CSV\n",
        "df.to_csv(\"gas_pipeline_data.csv\", index=False)\n",
        "print(\"Dataset with 15,000 rows saved as 'gas_pipeline_data.csv'\")\n"
      ],
      "metadata": {
        "colab": {
          "base_uri": "https://localhost:8080/"
        },
        "id": "eDlbNSTa_yfB",
        "outputId": "af74f85e-c243-4ec3-ef5d-937ededc4f4b"
      },
      "execution_count": 7,
      "outputs": [
        {
          "output_type": "stream",
          "name": "stdout",
          "text": [
            "Dataset with 15,000 rows saved as 'gas_pipeline_data.csv'\n"
          ]
        }
      ]
    },
    {
      "cell_type": "code",
      "source": [],
      "metadata": {
        "id": "htQELLaDA6D3"
      },
      "execution_count": null,
      "outputs": []
    }
  ]
}